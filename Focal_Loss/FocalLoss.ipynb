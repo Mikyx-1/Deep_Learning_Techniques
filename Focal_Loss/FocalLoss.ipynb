{
  "nbformat": 4,
  "nbformat_minor": 0,
  "metadata": {
    "colab": {
      "provenance": []
    },
    "kernelspec": {
      "name": "python3",
      "display_name": "Python 3"
    },
    "language_info": {
      "name": "python"
    }
  },
  "cells": [
    {
      "cell_type": "code",
      "execution_count": null,
      "metadata": {
        "colab": {
          "base_uri": "https://localhost:8080/"
        },
        "id": "5Fb2Y_vJ_K3f",
        "outputId": "e8acdea0-63d0-49a8-9800-03e7f9d6e5d1"
      },
      "outputs": [
        {
          "output_type": "stream",
          "name": "stdout",
          "text": [
            "Downloading http://yann.lecun.com/exdb/mnist/train-images-idx3-ubyte.gz\n",
            "Downloading http://yann.lecun.com/exdb/mnist/train-images-idx3-ubyte.gz to ./data/MNIST/raw/train-images-idx3-ubyte.gz\n"
          ]
        },
        {
          "output_type": "stream",
          "name": "stderr",
          "text": [
            "100%|██████████| 9912422/9912422 [00:00<00:00, 148133923.05it/s]"
          ]
        },
        {
          "output_type": "stream",
          "name": "stdout",
          "text": [
            "Extracting ./data/MNIST/raw/train-images-idx3-ubyte.gz to ./data/MNIST/raw\n"
          ]
        },
        {
          "output_type": "stream",
          "name": "stderr",
          "text": [
            "\n"
          ]
        },
        {
          "output_type": "stream",
          "name": "stdout",
          "text": [
            "\n",
            "Downloading http://yann.lecun.com/exdb/mnist/train-labels-idx1-ubyte.gz\n",
            "Downloading http://yann.lecun.com/exdb/mnist/train-labels-idx1-ubyte.gz to ./data/MNIST/raw/train-labels-idx1-ubyte.gz\n"
          ]
        },
        {
          "output_type": "stream",
          "name": "stderr",
          "text": [
            "100%|██████████| 28881/28881 [00:00<00:00, 70964085.43it/s]\n"
          ]
        },
        {
          "output_type": "stream",
          "name": "stdout",
          "text": [
            "Extracting ./data/MNIST/raw/train-labels-idx1-ubyte.gz to ./data/MNIST/raw\n",
            "\n",
            "Downloading http://yann.lecun.com/exdb/mnist/t10k-images-idx3-ubyte.gz\n",
            "Downloading http://yann.lecun.com/exdb/mnist/t10k-images-idx3-ubyte.gz to ./data/MNIST/raw/t10k-images-idx3-ubyte.gz\n"
          ]
        },
        {
          "output_type": "stream",
          "name": "stderr",
          "text": [
            "100%|██████████| 1648877/1648877 [00:00<00:00, 77366752.77it/s]"
          ]
        },
        {
          "output_type": "stream",
          "name": "stdout",
          "text": [
            "Extracting ./data/MNIST/raw/t10k-images-idx3-ubyte.gz to ./data/MNIST/raw\n"
          ]
        },
        {
          "output_type": "stream",
          "name": "stderr",
          "text": [
            "\n"
          ]
        },
        {
          "output_type": "stream",
          "name": "stdout",
          "text": [
            "\n",
            "Downloading http://yann.lecun.com/exdb/mnist/t10k-labels-idx1-ubyte.gz\n",
            "Downloading http://yann.lecun.com/exdb/mnist/t10k-labels-idx1-ubyte.gz to ./data/MNIST/raw/t10k-labels-idx1-ubyte.gz\n"
          ]
        },
        {
          "output_type": "stream",
          "name": "stderr",
          "text": [
            "100%|██████████| 4542/4542 [00:00<00:00, 16948869.01it/s]\n"
          ]
        },
        {
          "output_type": "stream",
          "name": "stdout",
          "text": [
            "Extracting ./data/MNIST/raw/t10k-labels-idx1-ubyte.gz to ./data/MNIST/raw\n",
            "\n"
          ]
        }
      ],
      "source": [
        "import torch\n",
        "import torch.nn as nn\n",
        "import torch.optim as optim\n",
        "from torchvision import datasets, transforms\n",
        "\n",
        "# Define the neural network architecture\n",
        "class Net(nn.Module):\n",
        "    def __init__(self):\n",
        "        super(Net, self).__init__()\n",
        "        self.fc1 = nn.Linear(784, 256)\n",
        "        self.fc2 = nn.Linear(256, 128)\n",
        "        self.fc3 = nn.Linear(128, 10)\n",
        "\n",
        "    def forward(self, x):\n",
        "        x = x.view(-1, 784)\n",
        "        x = torch.relu(self.fc1(x))\n",
        "        x = torch.relu(self.fc2(x))\n",
        "        x = self.fc3(x)\n",
        "        return x\n",
        "\n",
        "# Set random seed for reproducibility\n",
        "torch.manual_seed(42)\n",
        "\n",
        "# Load the MNIST dataset\n",
        "transform = transforms.Compose([\n",
        "    transforms.ToTensor(),\n",
        "    transforms.Normalize((0.1307,), (0.3081,))\n",
        "])\n",
        "\n",
        "train_dataset = datasets.MNIST(root='./data', train=True, download=True, transform=transform)\n",
        "test_dataset = datasets.MNIST(root='./data', train=False, download=True, transform=transform)\n",
        "\n",
        "# Create data loaders\n",
        "batch_size = 64\n",
        "train_loader = torch.utils.data.DataLoader(train_dataset, batch_size=batch_size, shuffle=True)\n",
        "test_loader = torch.utils.data.DataLoader(test_dataset, batch_size=batch_size, shuffle=False)\n",
        "\n",
        "# Create an instance of the network\n",
        "model = Net()\n",
        "\n"
      ]
    },
    {
      "cell_type": "code",
      "source": [
        "# Define the loss function and optimizer\n",
        "criterion = nn.CrossEntropyLoss()\n",
        "optimizer = optim.Adam(model.parameters(), lr=0.001)\n",
        "\n",
        "# Training loop\n",
        "num_epochs = 10\n",
        "device = torch.device(\"cuda\" if torch.cuda.is_available() else \"cpu\")\n",
        "model.to(device)\n",
        "\n",
        "for epoch in range(num_epochs):\n",
        "    model.train()\n",
        "    running_loss = 0.0\n",
        "    for batch_idx, (data, target) in enumerate(train_loader):\n",
        "        data, target = data.to(device), target.to(device)\n",
        "        optimizer.zero_grad()\n",
        "        output = model(data)\n",
        "        loss = criterion(output, target)\n",
        "        loss.backward()\n",
        "        optimizer.step()\n",
        "        running_loss += loss.item()\n",
        "\n",
        "        if batch_idx % 100 == 99:\n",
        "            print(f\"Epoch [{epoch+1}/{num_epochs}], Step [{batch_idx+1}/{len(train_loader)}], Loss: {running_loss/100:.4f}\")\n",
        "            running_loss = 0.0"
      ],
      "metadata": {
        "colab": {
          "base_uri": "https://localhost:8080/"
        },
        "id": "9ZnoPkXo_VCs",
        "outputId": "69f00cd7-d7d7-44b8-d2ec-233fc3d981fd"
      },
      "execution_count": null,
      "outputs": [
        {
          "output_type": "stream",
          "name": "stdout",
          "text": [
            "Epoch [1/10], Step [100/938], Loss: 0.6275\n",
            "Epoch [1/10], Step [200/938], Loss: 0.3122\n",
            "Epoch [1/10], Step [300/938], Loss: 0.2366\n",
            "Epoch [1/10], Step [400/938], Loss: 0.1993\n",
            "Epoch [1/10], Step [500/938], Loss: 0.1763\n",
            "Epoch [1/10], Step [600/938], Loss: 0.1636\n",
            "Epoch [1/10], Step [700/938], Loss: 0.1484\n",
            "Epoch [1/10], Step [800/938], Loss: 0.1335\n",
            "Epoch [1/10], Step [900/938], Loss: 0.1390\n",
            "Epoch [2/10], Step [100/938], Loss: 0.1060\n",
            "Epoch [2/10], Step [200/938], Loss: 0.1081\n",
            "Epoch [2/10], Step [300/938], Loss: 0.0964\n",
            "Epoch [2/10], Step [400/938], Loss: 0.0910\n",
            "Epoch [2/10], Step [500/938], Loss: 0.0865\n",
            "Epoch [2/10], Step [600/938], Loss: 0.0990\n",
            "Epoch [2/10], Step [700/938], Loss: 0.0956\n",
            "Epoch [2/10], Step [800/938], Loss: 0.0863\n",
            "Epoch [2/10], Step [900/938], Loss: 0.0802\n",
            "Epoch [3/10], Step [100/938], Loss: 0.0726\n",
            "Epoch [3/10], Step [200/938], Loss: 0.0648\n",
            "Epoch [3/10], Step [300/938], Loss: 0.0599\n",
            "Epoch [3/10], Step [400/938], Loss: 0.0726\n",
            "Epoch [3/10], Step [500/938], Loss: 0.0702\n",
            "Epoch [3/10], Step [600/938], Loss: 0.0604\n",
            "Epoch [3/10], Step [700/938], Loss: 0.0691\n",
            "Epoch [3/10], Step [800/938], Loss: 0.0703\n",
            "Epoch [3/10], Step [900/938], Loss: 0.0640\n",
            "Epoch [4/10], Step [100/938], Loss: 0.0528\n",
            "Epoch [4/10], Step [200/938], Loss: 0.0434\n",
            "Epoch [4/10], Step [300/938], Loss: 0.0490\n",
            "Epoch [4/10], Step [400/938], Loss: 0.0534\n",
            "Epoch [4/10], Step [500/938], Loss: 0.0480\n",
            "Epoch [4/10], Step [600/938], Loss: 0.0503\n",
            "Epoch [4/10], Step [700/938], Loss: 0.0537\n",
            "Epoch [4/10], Step [800/938], Loss: 0.0523\n",
            "Epoch [4/10], Step [900/938], Loss: 0.0549\n",
            "Epoch [5/10], Step [100/938], Loss: 0.0353\n",
            "Epoch [5/10], Step [200/938], Loss: 0.0305\n",
            "Epoch [5/10], Step [300/938], Loss: 0.0408\n",
            "Epoch [5/10], Step [400/938], Loss: 0.0411\n",
            "Epoch [5/10], Step [500/938], Loss: 0.0431\n",
            "Epoch [5/10], Step [600/938], Loss: 0.0476\n",
            "Epoch [5/10], Step [700/938], Loss: 0.0449\n",
            "Epoch [5/10], Step [800/938], Loss: 0.0499\n",
            "Epoch [5/10], Step [900/938], Loss: 0.0557\n",
            "Epoch [6/10], Step [100/938], Loss: 0.0304\n",
            "Epoch [6/10], Step [200/938], Loss: 0.0254\n",
            "Epoch [6/10], Step [300/938], Loss: 0.0276\n",
            "Epoch [6/10], Step [400/938], Loss: 0.0294\n",
            "Epoch [6/10], Step [500/938], Loss: 0.0328\n",
            "Epoch [6/10], Step [600/938], Loss: 0.0416\n",
            "Epoch [6/10], Step [700/938], Loss: 0.0359\n",
            "Epoch [6/10], Step [800/938], Loss: 0.0430\n",
            "Epoch [6/10], Step [900/938], Loss: 0.0381\n",
            "Epoch [7/10], Step [100/938], Loss: 0.0286\n",
            "Epoch [7/10], Step [200/938], Loss: 0.0199\n",
            "Epoch [7/10], Step [300/938], Loss: 0.0193\n",
            "Epoch [7/10], Step [400/938], Loss: 0.0223\n",
            "Epoch [7/10], Step [500/938], Loss: 0.0227\n",
            "Epoch [7/10], Step [600/938], Loss: 0.0387\n",
            "Epoch [7/10], Step [700/938], Loss: 0.0316\n",
            "Epoch [7/10], Step [800/938], Loss: 0.0394\n",
            "Epoch [7/10], Step [900/938], Loss: 0.0300\n",
            "Epoch [8/10], Step [100/938], Loss: 0.0168\n",
            "Epoch [8/10], Step [200/938], Loss: 0.0167\n",
            "Epoch [8/10], Step [300/938], Loss: 0.0181\n",
            "Epoch [8/10], Step [400/938], Loss: 0.0272\n",
            "Epoch [8/10], Step [500/938], Loss: 0.0270\n",
            "Epoch [8/10], Step [600/938], Loss: 0.0239\n",
            "Epoch [8/10], Step [700/938], Loss: 0.0244\n",
            "Epoch [8/10], Step [800/938], Loss: 0.0296\n",
            "Epoch [8/10], Step [900/938], Loss: 0.0303\n",
            "Epoch [9/10], Step [100/938], Loss: 0.0153\n",
            "Epoch [9/10], Step [200/938], Loss: 0.0241\n",
            "Epoch [9/10], Step [300/938], Loss: 0.0140\n",
            "Epoch [9/10], Step [400/938], Loss: 0.0200\n",
            "Epoch [9/10], Step [500/938], Loss: 0.0233\n",
            "Epoch [9/10], Step [600/938], Loss: 0.0333\n",
            "Epoch [9/10], Step [700/938], Loss: 0.0253\n",
            "Epoch [9/10], Step [800/938], Loss: 0.0237\n",
            "Epoch [9/10], Step [900/938], Loss: 0.0163\n",
            "Epoch [10/10], Step [100/938], Loss: 0.0166\n",
            "Epoch [10/10], Step [200/938], Loss: 0.0136\n",
            "Epoch [10/10], Step [300/938], Loss: 0.0182\n",
            "Epoch [10/10], Step [400/938], Loss: 0.0190\n",
            "Epoch [10/10], Step [500/938], Loss: 0.0223\n",
            "Epoch [10/10], Step [600/938], Loss: 0.0312\n",
            "Epoch [10/10], Step [700/938], Loss: 0.0257\n",
            "Epoch [10/10], Step [800/938], Loss: 0.0330\n",
            "Epoch [10/10], Step [900/938], Loss: 0.0199\n"
          ]
        }
      ]
    },
    {
      "cell_type": "code",
      "source": [
        "class MyFocalLoss(nn.Module):\n",
        "    def __init__(self, gamma=0, alpha=None, size_average = True):\n",
        "        '''\n",
        "        Input: Raw logits from the neural net\n",
        "        Target: Long shape (N, )\n",
        "        '''\n",
        "        super().__init__()\n",
        "        self.gamma = gamma\n",
        "        self.alpha = alpha\n",
        "        if isinstance(self.alpha, (float, int)):\n",
        "            self.alpha = torch.tensor([alpha, 1 - alpha]) # Minority class get alpha coeff\n",
        "        if isinstance(self.alpha, list):\n",
        "            self.alpha = torch.tensor(alpha)\n",
        "        self.size_average = size_average\n",
        "\n",
        "    def forward(self, input_, target):\n",
        "\n",
        "        target = target.view(-1, 1)\n",
        "        logpt = F.log_softmax(input_, -1)\n",
        "        logpt = logpt.gather(1, target)\n",
        "        logpt = logpt.view(-1)\n",
        "        pt = logpt.exp()\n",
        "\n",
        "        if self.alpha is not None:\n",
        "            if self.alpha.type() != input_.type():\n",
        "                self.alpha = self.alpha.type_as(input_)\n",
        "            at = self.alpha.gather(0, target.view(-1).long())\n",
        "            logpt *= at\n",
        "        loss = -((1-pt)**self.gamma)*logpt\n",
        "        if self.size_average:\n",
        "            return loss.mean()\n",
        "        return loss.sum()\n"
      ],
      "metadata": {
        "id": "kvJjMvWo_kvH"
      },
      "execution_count": null,
      "outputs": []
    },
    {
      "cell_type": "code",
      "source": [
        "import torch.nn.functional as F"
      ],
      "metadata": {
        "id": "ZoBvFTYJAi1w"
      },
      "execution_count": null,
      "outputs": []
    },
    {
      "cell_type": "code",
      "source": [
        "model = Net()\n",
        "\n",
        "criterion = MyFocalLoss(gamma = 1, alpha = [0.2 for i in range(10)])\n",
        "optimizer = optim.Adam(model.parameters(), lr=0.001)\n",
        "\n",
        "# Training loop\n",
        "num_epochs = 10\n",
        "device = torch.device(\"cuda\" if torch.cuda.is_available() else \"cpu\")\n",
        "model.to(device)\n",
        "\n",
        "for epoch in range(num_epochs):\n",
        "    model.train()\n",
        "    running_loss = 0.0\n",
        "    for batch_idx, (data, target) in enumerate(train_loader):\n",
        "        data, target = data.to(device), target.to(device)\n",
        "        optimizer.zero_grad()\n",
        "        output = model(data)\n",
        "        loss = criterion(output, target)\n",
        "        loss.backward()\n",
        "        optimizer.step()\n",
        "        running_loss += loss.item()\n",
        "\n",
        "        if batch_idx % 100 == 99:\n",
        "            print(f\"Epoch [{epoch+1}/{num_epochs}], Step [{batch_idx+1}/{len(train_loader)}], Loss: {running_loss/100:.4f}\")\n",
        "            running_loss = 0.0"
      ],
      "metadata": {
        "colab": {
          "base_uri": "https://localhost:8080/"
        },
        "id": "vY59UbeB_xMc",
        "outputId": "f4375d34-681c-44fe-fac0-f9a8cf0563c2"
      },
      "execution_count": null,
      "outputs": [
        {
          "output_type": "stream",
          "name": "stdout",
          "text": [
            "Epoch [1/10], Step [100/938], Loss: 0.0912\n",
            "Epoch [1/10], Step [200/938], Loss: 0.0400\n",
            "Epoch [1/10], Step [300/938], Loss: 0.0308\n",
            "Epoch [1/10], Step [400/938], Loss: 0.0272\n",
            "Epoch [1/10], Step [500/938], Loss: 0.0242\n",
            "Epoch [1/10], Step [600/938], Loss: 0.0209\n",
            "Epoch [1/10], Step [700/938], Loss: 0.0189\n",
            "Epoch [1/10], Step [800/938], Loss: 0.0178\n",
            "Epoch [1/10], Step [900/938], Loss: 0.0184\n",
            "Epoch [2/10], Step [100/938], Loss: 0.0124\n",
            "Epoch [2/10], Step [200/938], Loss: 0.0134\n",
            "Epoch [2/10], Step [300/938], Loss: 0.0120\n",
            "Epoch [2/10], Step [400/938], Loss: 0.0145\n",
            "Epoch [2/10], Step [500/938], Loss: 0.0132\n",
            "Epoch [2/10], Step [600/938], Loss: 0.0122\n",
            "Epoch [2/10], Step [700/938], Loss: 0.0125\n",
            "Epoch [2/10], Step [800/938], Loss: 0.0108\n",
            "Epoch [2/10], Step [900/938], Loss: 0.0113\n",
            "Epoch [3/10], Step [100/938], Loss: 0.0075\n",
            "Epoch [3/10], Step [200/938], Loss: 0.0082\n",
            "Epoch [3/10], Step [300/938], Loss: 0.0087\n",
            "Epoch [3/10], Step [400/938], Loss: 0.0080\n",
            "Epoch [3/10], Step [500/938], Loss: 0.0081\n",
            "Epoch [3/10], Step [600/938], Loss: 0.0091\n",
            "Epoch [3/10], Step [700/938], Loss: 0.0079\n",
            "Epoch [3/10], Step [800/938], Loss: 0.0099\n",
            "Epoch [3/10], Step [900/938], Loss: 0.0099\n",
            "Epoch [4/10], Step [100/938], Loss: 0.0064\n",
            "Epoch [4/10], Step [200/938], Loss: 0.0063\n",
            "Epoch [4/10], Step [300/938], Loss: 0.0055\n",
            "Epoch [4/10], Step [400/938], Loss: 0.0071\n",
            "Epoch [4/10], Step [500/938], Loss: 0.0062\n",
            "Epoch [4/10], Step [600/938], Loss: 0.0063\n",
            "Epoch [4/10], Step [700/938], Loss: 0.0077\n",
            "Epoch [4/10], Step [800/938], Loss: 0.0069\n",
            "Epoch [4/10], Step [900/938], Loss: 0.0076\n",
            "Epoch [5/10], Step [100/938], Loss: 0.0046\n",
            "Epoch [5/10], Step [200/938], Loss: 0.0039\n",
            "Epoch [5/10], Step [300/938], Loss: 0.0059\n",
            "Epoch [5/10], Step [400/938], Loss: 0.0046\n",
            "Epoch [5/10], Step [500/938], Loss: 0.0062\n",
            "Epoch [5/10], Step [600/938], Loss: 0.0058\n",
            "Epoch [5/10], Step [700/938], Loss: 0.0054\n",
            "Epoch [5/10], Step [800/938], Loss: 0.0057\n",
            "Epoch [5/10], Step [900/938], Loss: 0.0063\n",
            "Epoch [6/10], Step [100/938], Loss: 0.0039\n",
            "Epoch [6/10], Step [200/938], Loss: 0.0045\n",
            "Epoch [6/10], Step [300/938], Loss: 0.0033\n",
            "Epoch [6/10], Step [400/938], Loss: 0.0042\n",
            "Epoch [6/10], Step [500/938], Loss: 0.0044\n",
            "Epoch [6/10], Step [600/938], Loss: 0.0057\n",
            "Epoch [6/10], Step [700/938], Loss: 0.0054\n",
            "Epoch [6/10], Step [800/938], Loss: 0.0042\n",
            "Epoch [6/10], Step [900/938], Loss: 0.0057\n",
            "Epoch [7/10], Step [100/938], Loss: 0.0030\n",
            "Epoch [7/10], Step [200/938], Loss: 0.0041\n",
            "Epoch [7/10], Step [300/938], Loss: 0.0037\n",
            "Epoch [7/10], Step [400/938], Loss: 0.0035\n",
            "Epoch [7/10], Step [500/938], Loss: 0.0032\n",
            "Epoch [7/10], Step [600/938], Loss: 0.0030\n",
            "Epoch [7/10], Step [700/938], Loss: 0.0049\n",
            "Epoch [7/10], Step [800/938], Loss: 0.0056\n",
            "Epoch [7/10], Step [900/938], Loss: 0.0041\n",
            "Epoch [8/10], Step [100/938], Loss: 0.0026\n",
            "Epoch [8/10], Step [200/938], Loss: 0.0024\n",
            "Epoch [8/10], Step [300/938], Loss: 0.0028\n",
            "Epoch [8/10], Step [400/938], Loss: 0.0028\n",
            "Epoch [8/10], Step [500/938], Loss: 0.0031\n",
            "Epoch [8/10], Step [600/938], Loss: 0.0043\n",
            "Epoch [8/10], Step [700/938], Loss: 0.0046\n",
            "Epoch [8/10], Step [800/938], Loss: 0.0060\n",
            "Epoch [8/10], Step [900/938], Loss: 0.0034\n",
            "Epoch [9/10], Step [100/938], Loss: 0.0030\n",
            "Epoch [9/10], Step [200/938], Loss: 0.0026\n",
            "Epoch [9/10], Step [300/938], Loss: 0.0020\n",
            "Epoch [9/10], Step [400/938], Loss: 0.0022\n",
            "Epoch [9/10], Step [500/938], Loss: 0.0024\n",
            "Epoch [9/10], Step [600/938], Loss: 0.0027\n",
            "Epoch [9/10], Step [700/938], Loss: 0.0031\n",
            "Epoch [9/10], Step [800/938], Loss: 0.0032\n",
            "Epoch [9/10], Step [900/938], Loss: 0.0038\n",
            "Epoch [10/10], Step [100/938], Loss: 0.0023\n",
            "Epoch [10/10], Step [200/938], Loss: 0.0030\n",
            "Epoch [10/10], Step [300/938], Loss: 0.0020\n",
            "Epoch [10/10], Step [400/938], Loss: 0.0027\n",
            "Epoch [10/10], Step [500/938], Loss: 0.0032\n",
            "Epoch [10/10], Step [600/938], Loss: 0.0038\n",
            "Epoch [10/10], Step [700/938], Loss: 0.0037\n",
            "Epoch [10/10], Step [800/938], Loss: 0.0039\n",
            "Epoch [10/10], Step [900/938], Loss: 0.0040\n"
          ]
        }
      ]
    },
    {
      "cell_type": "code",
      "source": [
        "# Evaluation\n",
        "# Cross entropy loss: 97.91%\n",
        "# Focal Loss: 97.71%\n",
        "# Focal Loss with alpha: 97.96\n",
        "model.eval()\n",
        "correct = 0\n",
        "total = 0\n",
        "\n",
        "with torch.no_grad():\n",
        "    for data, target in test_loader:\n",
        "        data, target = data.to(device), target.to(device)\n",
        "        output = model(data)\n",
        "        _, predicted = torch.max(output.data, 1)\n",
        "        total += target.size(0)\n",
        "        correct += (predicted == target).sum().item()\n",
        "\n",
        "accuracy = 100 * correct / total\n",
        "print(f\"Accuracy on the test set: {accuracy:.2f}%\")"
      ],
      "metadata": {
        "colab": {
          "base_uri": "https://localhost:8080/"
        },
        "id": "KIVUD88E_Xod",
        "outputId": "1cbf9d6d-6893-454f-fe1c-6994599daa9c"
      },
      "execution_count": null,
      "outputs": [
        {
          "output_type": "stream",
          "name": "stdout",
          "text": [
            "Accuracy on the test set: 97.96%\n"
          ]
        }
      ]
    },
    {
      "cell_type": "code",
      "source": [
        "\n"
      ],
      "metadata": {
        "id": "yNwfl6D0AUWv"
      },
      "execution_count": null,
      "outputs": []
    }
  ]
}