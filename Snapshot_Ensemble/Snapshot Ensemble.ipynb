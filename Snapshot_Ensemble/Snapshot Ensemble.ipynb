{
 "cells": [
  {
   "cell_type": "code",
   "execution_count": 34,
   "id": "74efb2ca",
   "metadata": {},
   "outputs": [
    {
     "name": "stdout",
     "output_type": "stream",
     "text": [
      ">saved snapshot snapshot_model_1.h5, epoch 49\n",
      ">saved snapshot snapshot_model_2.h5, epoch 99\n",
      ">saved snapshot snapshot_model_3.h5, epoch 149\n",
      ">saved snapshot snapshot_model_4.h5, epoch 199\n",
      ">saved snapshot snapshot_model_5.h5, epoch 249\n",
      ">saved snapshot snapshot_model_6.h5, epoch 299\n",
      ">saved snapshot snapshot_model_7.h5, epoch 349\n",
      ">saved snapshot snapshot_model_8.h5, epoch 399\n",
      ">saved snapshot snapshot_model_9.h5, epoch 449\n",
      ">saved snapshot snapshot_model_10.h5, epoch 499\n"
     ]
    },
    {
     "data": {
      "text/plain": [
       "<keras.callbacks.History at 0x7feb455633d0>"
      ]
     },
     "execution_count": 34,
     "metadata": {},
     "output_type": "execute_result"
    }
   ],
   "source": [
    "# example of saving models for a snapshot ensemble\n",
    "from sklearn.datasets import make_blobs\n",
    "from keras.utils import to_categorical\n",
    "from keras.models import Sequential\n",
    "from keras.layers import Dense\n",
    "from keras.callbacks import Callback\n",
    "from keras.optimizers import SGD\n",
    "from keras import backend\n",
    "from math import pi\n",
    "from math import cos\n",
    "from math import floor\n",
    "\n",
    "# snapshot ensemble with custom learning rate schedule\n",
    "class SnapshotEnsemble(Callback):\n",
    "\t# constructor\n",
    "\tdef __init__(self, n_epochs, n_cycles, lrate_max, verbose=0):\n",
    "\t\tself.epochs = n_epochs\n",
    "\t\tself.cycles = n_cycles\n",
    "\t\tself.lr_max = lrate_max\n",
    "\t\tself.lrates = list()\n",
    "\n",
    "\t# calculate learning rate for epoch\n",
    "\tdef cosine_annealing(self, epoch, n_epochs, n_cycles, lrate_max):\n",
    "\t\tepochs_per_cycle = floor(n_epochs/n_cycles)\n",
    "\t\tcos_inner = (pi * (epoch % epochs_per_cycle)) / (epochs_per_cycle)\n",
    "\t\treturn lrate_max/2 * (cos(cos_inner) + 1)\n",
    "\n",
    "\t# calculate and set learning rate at the start of the epoch\n",
    "\tdef on_epoch_begin(self, epoch, logs={}):\n",
    "\t\t# calculate learning rate\n",
    "\t\tlr = self.cosine_annealing(epoch, self.epochs, self.cycles, self.lr_max)\n",
    "\t\t# set learning rate\n",
    "\t\tbackend.set_value(self.model.optimizer.lr, lr)\n",
    "\t\t# log value\n",
    "\t\tself.lrates.append(lr)\n",
    "\n",
    "\t# save models at the end of each cycle\n",
    "\tdef on_epoch_end(self, epoch, logs={}):\n",
    "\t\t# check if we can save model\n",
    "\t\tepochs_per_cycle = floor(self.epochs / self.cycles)\n",
    "\t\tif epoch != 0 and (epoch + 1) % epochs_per_cycle == 0:\n",
    "\t\t\t# save model to file\n",
    "\t\t\tfilename = \"snapshot_model_%d.h5\" % int((epoch + 1) / epochs_per_cycle)\n",
    "\t\t\tself.model.save(filename)\n",
    "\t\t\tprint('>saved snapshot %s, epoch %d' % (filename, epoch))\n",
    "\n",
    "# generate 2d classification dataset\n",
    "X, y = make_blobs(n_samples=1100, centers=3, n_features=2, cluster_std=2, random_state=2)\n",
    "# one hot encode output variable\n",
    "y = to_categorical(y)\n",
    "# split into train and test\n",
    "n_train = 100\n",
    "trainX, testX = X[:n_train, :], X[n_train:, :]\n",
    "trainy, testy = y[:n_train], y[n_train:]\n",
    "# define model\n",
    "model = Sequential()\n",
    "model.add(Dense(50, input_dim=2, activation='relu'))\n",
    "model.add(Dense(3, activation='softmax'))\n",
    "opt = SGD(momentum=0.9)\n",
    "model.compile(loss='categorical_crossentropy', optimizer=opt, metrics=['accuracy'])\n",
    "# create snapshot ensemble callback\n",
    "n_epochs = 500\n",
    "n_cycles = n_epochs / 50\n",
    "ca = SnapshotEnsemble(n_epochs, n_cycles, 0.01)\n",
    "# fit model\n",
    "model.fit(trainX, trainy, validation_data=(testX, testy), epochs=n_epochs, verbose=0, callbacks=[ca])"
   ]
  },
  {
   "cell_type": "code",
   "execution_count": 35,
   "id": "82af1475",
   "metadata": {},
   "outputs": [
    {
     "data": {
      "text/plain": [
       "((1000, 2), (1000, 3))"
      ]
     },
     "execution_count": 35,
     "metadata": {},
     "output_type": "execute_result"
    }
   ],
   "source": [
    "testX.shape, testy.shape"
   ]
  },
  {
   "cell_type": "code",
   "execution_count": 40,
   "id": "bbd010cc",
   "metadata": {},
   "outputs": [
    {
     "name": "stdout",
     "output_type": "stream",
     "text": [
      "32/32 [==============================] - 0s 960us/step - loss: 0.4751 - accuracy: 0.8100\n"
     ]
    },
    {
     "data": {
      "text/plain": [
       "[0.47510215640068054, 0.8100000023841858]"
      ]
     },
     "execution_count": 40,
     "metadata": {},
     "output_type": "execute_result"
    }
   ],
   "source": [
    "model.evaluate(testX, testy)"
   ]
  },
  {
   "cell_type": "code",
   "execution_count": 41,
   "id": "0468a657",
   "metadata": {},
   "outputs": [],
   "source": [
    "def load_models(num_models):\n",
    "    models = []\n",
    "    for i in range(num_models):\n",
    "        models.append(keras.models.load_model(\"snapshot_model_\" + str(i+1) + \".h5\"))\n",
    "    return models"
   ]
  },
  {
   "cell_type": "code",
   "execution_count": 55,
   "id": "7e3f26f2",
   "metadata": {},
   "outputs": [],
   "source": [
    "def ensemble_predictions(models, testX):\n",
    "    ans = []\n",
    "    for model in models:\n",
    "        ans.append(model.predict(testX))\n",
    "    ans = np.array(ans).sum(axis=0).argmax(1)\n",
    "    return ans"
   ]
  },
  {
   "cell_type": "code",
   "execution_count": 83,
   "id": "7c3266a9",
   "metadata": {},
   "outputs": [
    {
     "name": "stdout",
     "output_type": "stream",
     "text": [
      "32/32 [==============================] - 0s 875us/step\n",
      "32/32 [==============================] - 0s 811us/step\n",
      "32/32 [==============================] - 0s 904us/step\n",
      "32/32 [==============================] - 0s 873us/step\n",
      "32/32 [==============================] - 0s 2ms/step\n",
      "32/32 [==============================] - 0s 867us/step\n",
      "32/32 [==============================] - 0s 841us/step\n",
      "32/32 [==============================] - 0s 857us/step\n"
     ]
    }
   ],
   "source": [
    "models = load_models(8)\n",
    "pred = ensemble_predictions(models, testX)"
   ]
  },
  {
   "cell_type": "code",
   "execution_count": 84,
   "id": "1460c317",
   "metadata": {},
   "outputs": [
    {
     "data": {
      "text/plain": [
       "0.814"
      ]
     },
     "execution_count": 84,
     "metadata": {},
     "output_type": "execute_result"
    }
   ],
   "source": [
    "len(pred[pred==testy.argmax(1)])/len(pred)"
   ]
  },
  {
   "cell_type": "code",
   "execution_count": 60,
   "id": "82358cc4",
   "metadata": {},
   "outputs": [
    {
     "data": {
      "text/plain": [
       "array([0, 2, 2, 2, 0, 0, 1, 2, 1, 1, 2, 2, 1, 0, 2, 2, 1, 1, 0, 2, 2, 1,\n",
       "       0, 1, 0, 0, 2, 1, 0, 1, 1, 2, 2, 0, 2, 0, 0, 2, 1, 1, 2, 2, 2, 2,\n",
       "       2, 1, 0, 2, 0, 1, 1, 2, 0, 2, 2, 2, 0, 2, 1, 0, 2, 0, 0, 2, 1, 0,\n",
       "       2, 2, 2, 2, 2, 2, 0, 0, 0, 2, 1, 0, 0, 2, 0, 2, 2, 0, 0, 0, 2, 0,\n",
       "       0, 1, 0, 1, 1, 0, 2, 0, 1, 1, 2, 2, 1, 2, 1, 1, 2, 0, 2, 0, 1, 2,\n",
       "       1, 2, 2, 0, 1, 1, 2, 2, 2, 2, 2, 2, 2, 2, 1, 0, 1, 2, 1, 0, 0, 2,\n",
       "       1, 1, 0, 2, 1, 1, 1, 1, 2, 1, 0, 1, 1, 1, 1, 1, 1, 2, 2, 0, 1, 1,\n",
       "       1, 0, 2, 2, 1, 2, 1, 0, 0, 0, 1, 2, 2, 0, 1, 0, 2, 1, 1, 1, 1, 1,\n",
       "       0, 0, 1, 0, 1, 1, 1, 2, 1, 2, 1, 1, 1, 1, 2, 2, 1, 0, 0, 1, 1, 0,\n",
       "       0, 0, 2, 1, 2, 0, 2, 0, 0, 1, 1, 2, 0, 1, 0, 0, 2, 0, 1, 2, 2, 0,\n",
       "       2, 2, 0, 1, 1, 2, 2, 0, 0, 0, 0, 2, 2, 0, 2, 2, 1, 2, 2, 0, 2, 2,\n",
       "       0, 1, 1, 1, 1, 0, 2, 1, 1, 1, 2, 0, 1, 1, 2, 1, 0, 1, 2, 2, 2, 2,\n",
       "       2, 2, 2, 0, 1, 1, 0, 0, 2, 0, 2, 0, 1, 1, 0, 1, 0, 1, 1, 0, 0, 2,\n",
       "       1, 0, 0, 1, 0, 0, 1, 0, 2, 1, 2, 1, 0, 1, 1, 1, 2, 0, 0, 0, 0, 0,\n",
       "       2, 0, 2, 0, 1, 2, 2, 2, 2, 2, 2, 0, 2, 1, 2, 0, 0, 2, 2, 1, 0, 2,\n",
       "       2, 0, 2, 0, 1, 0, 1, 1, 2, 1, 0, 0, 1, 2, 0, 0, 1, 0, 2, 1, 1, 0,\n",
       "       0, 0, 2, 2, 1, 0, 1, 2, 0, 1, 0, 2, 1, 1, 1, 0, 0, 2, 1, 0, 2, 1,\n",
       "       2, 1, 1, 0, 1, 1, 1, 1, 2, 1, 2, 2, 1, 2, 0, 2, 2, 1, 2, 0, 0, 0,\n",
       "       2, 2, 1, 2, 2, 0, 1, 1, 2, 1, 1, 1, 2, 2, 0, 1, 1, 2, 0, 2, 2, 1,\n",
       "       0, 2, 1, 1, 2, 2, 2, 0, 1, 2, 0, 2, 2, 2, 0, 0, 0, 0, 0, 2, 1, 1,\n",
       "       2, 1, 1, 1, 1, 0, 1, 2, 2, 2, 1, 1, 1, 2, 1, 2, 2, 2, 1, 2, 1, 0,\n",
       "       1, 1, 0, 1, 2, 1, 2, 0, 0, 0, 2, 0, 0, 0, 1, 0, 0, 0, 2, 0, 2, 0,\n",
       "       2, 1, 1, 0, 1, 0, 0, 0, 2, 0, 1, 2, 1, 0, 1, 1, 2, 2, 0, 1, 2, 0,\n",
       "       2, 1, 1, 2, 0, 2, 1, 1, 0, 0, 2, 0, 2, 0, 1, 1, 2, 0, 0, 1, 0, 1,\n",
       "       1, 2, 2, 1, 0, 0, 0, 0, 1, 0, 0, 0, 2, 2, 1, 2, 2, 2, 2, 2, 1, 2,\n",
       "       1, 0, 2, 1, 1, 0, 0, 0, 2, 0, 0, 1, 2, 0, 0, 2, 1, 2, 0, 0, 2, 1,\n",
       "       0, 2, 0, 1, 1, 2, 1, 2, 0, 1, 1, 0, 1, 1, 0, 2, 1, 2, 1, 2, 0, 0,\n",
       "       1, 0, 2, 2, 1, 1, 1, 2, 2, 2, 0, 2, 2, 0, 1, 2, 0, 2, 2, 2, 0, 2,\n",
       "       2, 1, 1, 0, 0, 2, 2, 1, 1, 1, 0, 0, 1, 1, 1, 1, 1, 2, 2, 0, 1, 0,\n",
       "       2, 2, 2, 1, 0, 2, 2, 2, 1, 0, 1, 2, 1, 2, 2, 0, 1, 1, 1, 1, 0, 0,\n",
       "       2, 0, 1, 1, 2, 2, 1, 0, 0, 2, 0, 2, 2, 1, 1, 2, 0, 0, 0, 0, 0, 2,\n",
       "       2, 2, 0, 0, 1, 0, 0, 0, 0, 1, 1, 2, 2, 2, 0, 0, 0, 1, 0, 2, 2, 2,\n",
       "       0, 1, 1, 2, 0, 0, 0, 0, 2, 0, 0, 2, 0, 0, 0, 2, 0, 0, 0, 2, 0, 2,\n",
       "       1, 1, 2, 0, 1, 0, 1, 1, 1, 1, 0, 0, 2, 2, 0, 2, 2, 1, 1, 1, 0, 1,\n",
       "       2, 1, 1, 2, 1, 1, 0, 0, 0, 0, 1, 2, 0, 2, 1, 1, 2, 0, 1, 0, 0, 2,\n",
       "       0, 1, 2, 0, 2, 0, 0, 0, 1, 0, 2, 2, 2, 0, 2, 2, 1, 1, 1, 1, 2, 0,\n",
       "       0, 1, 1, 0, 1, 2, 1, 1, 2, 2, 1, 2, 2, 1, 0, 2, 0, 2, 1, 2, 2, 2,\n",
       "       2, 0, 1, 1, 0, 1, 1, 0, 1, 2, 2, 1, 1, 1, 2, 1, 0, 1, 1, 1, 1, 1,\n",
       "       1, 1, 1, 1, 0, 1, 1, 0, 2, 2, 2, 1, 2, 0, 0, 1, 0, 0, 2, 0, 1, 0,\n",
       "       2, 0, 2, 2, 2, 0, 0, 2, 1, 2, 0, 0, 2, 2, 0, 0, 1, 0, 1, 0, 0, 0,\n",
       "       0, 0, 0, 2, 2, 1, 2, 2, 1, 0, 1, 2, 2, 2, 0, 0, 0, 0, 0, 0, 1, 1,\n",
       "       1, 2, 1, 0, 1, 0, 2, 1, 1, 1, 1, 1, 2, 1, 1, 0, 1, 0, 2, 1, 1, 0,\n",
       "       0, 1, 0, 2, 2, 1, 1, 2, 0, 1, 2, 2, 1, 1, 0, 1, 1, 1, 2, 2, 0, 1,\n",
       "       0, 0, 0, 2, 1, 2, 0, 2, 0, 2, 0, 0, 0, 0, 2, 0, 1, 1, 2, 0, 1, 0,\n",
       "       0, 1, 0, 2, 0, 0, 0, 0, 2, 0, 1, 1, 2, 2, 2, 2, 0, 1, 1, 0, 0, 0,\n",
       "       2, 1, 2, 1, 0, 0, 2, 1, 0, 2])"
      ]
     },
     "execution_count": 60,
     "metadata": {},
     "output_type": "execute_result"
    }
   ],
   "source": [
    "testy.argmax(1)"
   ]
  },
  {
   "cell_type": "code",
   "execution_count": 47,
   "id": "64c328aa",
   "metadata": {},
   "outputs": [],
   "source": [
    "import numpy as np"
   ]
  },
  {
   "cell_type": "code",
   "execution_count": 54,
   "id": "8e485b6a",
   "metadata": {},
   "outputs": [
    {
     "data": {
      "text/plain": [
       "array([0, 2, 2, 2, 0, 0, 1, 0, 1, 1, 0, 1, 1, 0, 2, 2, 1, 1, 0, 2, 2, 1,\n",
       "       0, 1, 0, 0, 2, 1, 0, 1, 1, 2, 2, 0, 1, 0, 0, 1, 1, 1, 1, 2, 0, 0,\n",
       "       1, 1, 0, 2, 0, 1, 1, 2, 0, 2, 1, 2, 0, 2, 1, 0, 0, 0, 0, 2, 1, 0,\n",
       "       2, 0, 2, 2, 0, 2, 0, 0, 2, 2, 1, 0, 0, 2, 0, 2, 2, 0, 0, 0, 1, 0,\n",
       "       0, 1, 0, 1, 1, 0, 2, 0, 2, 2, 1, 1, 1, 1, 1, 1, 2, 0, 2, 0, 0, 0,\n",
       "       1, 2, 2, 0, 1, 2, 1, 1, 2, 2, 2, 1, 2, 1, 1, 0, 2, 2, 1, 0, 0, 1,\n",
       "       1, 1, 0, 0, 1, 1, 1, 2, 1, 1, 0, 1, 2, 1, 1, 2, 1, 2, 2, 0, 1, 1,\n",
       "       1, 0, 0, 2, 1, 2, 1, 0, 0, 0, 1, 2, 2, 0, 2, 0, 0, 2, 2, 1, 1, 1,\n",
       "       0, 0, 1, 0, 1, 1, 1, 1, 1, 2, 2, 1, 1, 1, 2, 0, 1, 0, 0, 2, 1, 0,\n",
       "       0, 0, 2, 1, 2, 0, 0, 0, 0, 1, 2, 2, 0, 1, 0, 0, 2, 0, 1, 2, 0, 0,\n",
       "       2, 1, 0, 1, 1, 2, 2, 0, 0, 0, 0, 2, 2, 0, 2, 2, 2, 2, 2, 0, 1, 2,\n",
       "       0, 1, 1, 1, 2, 0, 0, 1, 1, 1, 1, 0, 1, 1, 2, 1, 0, 1, 1, 1, 2, 1,\n",
       "       1, 2, 0, 2, 1, 1, 0, 0, 2, 0, 1, 0, 1, 1, 0, 1, 0, 1, 1, 0, 0, 1,\n",
       "       1, 0, 0, 1, 0, 0, 1, 0, 0, 1, 2, 1, 0, 1, 2, 2, 1, 0, 0, 0, 0, 0,\n",
       "       1, 0, 2, 0, 1, 0, 2, 2, 2, 2, 2, 0, 0, 1, 2, 0, 0, 0, 0, 1, 0, 2,\n",
       "       2, 0, 1, 0, 1, 0, 1, 2, 2, 2, 0, 0, 1, 0, 0, 0, 1, 0, 0, 1, 1, 0,\n",
       "       0, 0, 2, 2, 2, 0, 2, 1, 0, 1, 0, 0, 1, 1, 1, 0, 0, 2, 1, 0, 1, 1,\n",
       "       2, 1, 1, 0, 2, 1, 1, 1, 1, 1, 0, 2, 1, 1, 0, 2, 2, 1, 1, 0, 0, 0,\n",
       "       1, 2, 1, 0, 2, 0, 2, 1, 2, 1, 1, 2, 2, 1, 0, 1, 1, 2, 1, 2, 2, 1,\n",
       "       0, 2, 1, 1, 2, 2, 2, 0, 2, 1, 0, 0, 2, 2, 0, 0, 0, 0, 0, 2, 1, 2,\n",
       "       2, 1, 1, 1, 1, 0, 1, 2, 1, 1, 1, 1, 1, 1, 2, 2, 2, 2, 1, 1, 1, 0,\n",
       "       1, 1, 0, 1, 2, 1, 2, 0, 2, 0, 0, 0, 0, 0, 1, 0, 0, 0, 2, 0, 2, 0,\n",
       "       0, 2, 1, 0, 1, 0, 0, 0, 0, 2, 1, 2, 1, 0, 2, 2, 2, 2, 0, 1, 2, 0,\n",
       "       1, 1, 1, 2, 0, 2, 1, 1, 0, 0, 2, 0, 1, 0, 2, 1, 2, 0, 0, 1, 0, 1,\n",
       "       1, 0, 2, 1, 0, 0, 0, 0, 1, 0, 0, 0, 1, 0, 1, 2, 2, 2, 2, 0, 1, 1,\n",
       "       1, 0, 2, 1, 1, 0, 0, 0, 0, 0, 0, 1, 2, 0, 0, 2, 1, 1, 0, 0, 1, 1,\n",
       "       2, 2, 0, 1, 1, 1, 1, 2, 0, 2, 1, 0, 2, 1, 0, 0, 1, 2, 1, 0, 2, 0,\n",
       "       1, 0, 2, 1, 2, 1, 2, 2, 2, 2, 0, 2, 2, 0, 1, 2, 0, 1, 2, 2, 0, 0,\n",
       "       2, 1, 2, 2, 0, 1, 2, 1, 1, 1, 0, 0, 1, 1, 1, 1, 0, 2, 2, 0, 2, 0,\n",
       "       0, 2, 1, 1, 0, 2, 1, 2, 1, 0, 1, 1, 1, 2, 2, 0, 1, 1, 1, 2, 0, 0,\n",
       "       0, 0, 1, 1, 2, 1, 1, 0, 0, 0, 0, 1, 2, 2, 2, 2, 0, 0, 0, 0, 0, 2,\n",
       "       2, 1, 0, 0, 1, 0, 0, 0, 0, 1, 1, 2, 2, 1, 0, 0, 0, 1, 0, 2, 1, 1,\n",
       "       0, 1, 1, 2, 0, 0, 0, 0, 2, 0, 0, 2, 0, 0, 0, 2, 0, 0, 0, 2, 0, 2,\n",
       "       1, 1, 1, 0, 1, 0, 1, 1, 0, 1, 0, 0, 0, 2, 0, 2, 0, 1, 1, 1, 0, 2,\n",
       "       1, 1, 1, 1, 0, 1, 2, 0, 2, 0, 2, 2, 0, 2, 2, 1, 0, 0, 1, 0, 0, 2,\n",
       "       0, 1, 1, 0, 0, 0, 0, 0, 1, 0, 0, 2, 2, 0, 2, 1, 2, 1, 1, 1, 0, 0,\n",
       "       0, 1, 2, 0, 1, 2, 1, 2, 1, 2, 1, 1, 2, 1, 0, 2, 0, 2, 1, 2, 2, 2,\n",
       "       2, 0, 1, 2, 0, 1, 1, 0, 1, 2, 2, 1, 1, 1, 2, 1, 0, 2, 1, 1, 1, 1,\n",
       "       1, 1, 1, 1, 2, 1, 1, 0, 1, 2, 2, 1, 0, 0, 0, 0, 0, 0, 1, 0, 1, 0,\n",
       "       2, 0, 0, 2, 2, 0, 0, 2, 1, 2, 2, 0, 0, 2, 0, 0, 1, 0, 1, 0, 0, 0,\n",
       "       0, 0, 0, 2, 0, 1, 2, 2, 1, 0, 1, 2, 2, 2, 0, 0, 0, 0, 0, 0, 2, 1,\n",
       "       1, 2, 1, 0, 1, 0, 0, 1, 2, 1, 1, 1, 1, 1, 1, 0, 0, 0, 1, 1, 1, 0,\n",
       "       0, 1, 0, 1, 2, 2, 2, 2, 0, 1, 1, 2, 1, 1, 0, 1, 1, 1, 0, 2, 0, 1,\n",
       "       0, 0, 0, 2, 1, 0, 0, 2, 0, 0, 0, 0, 0, 0, 0, 0, 1, 1, 2, 0, 1, 0,\n",
       "       0, 1, 0, 2, 0, 2, 0, 0, 2, 2, 1, 1, 2, 1, 2, 0, 0, 1, 1, 0, 0, 0,\n",
       "       0, 1, 2, 1, 0, 0, 2, 1, 0, 0])"
      ]
     },
     "execution_count": 54,
     "metadata": {},
     "output_type": "execute_result"
    }
   ],
   "source": [
    "np.array(pred).sum(axis=0).argmax(1)"
   ]
  },
  {
   "cell_type": "code",
   "execution_count": null,
   "id": "d3114436",
   "metadata": {},
   "outputs": [],
   "source": []
  }
 ],
 "metadata": {
  "kernelspec": {
   "display_name": "virenv1",
   "language": "python",
   "name": "youtube-tutorial"
  },
  "language_info": {
   "codemirror_mode": {
    "name": "ipython",
    "version": 3
   },
   "file_extension": ".py",
   "mimetype": "text/x-python",
   "name": "python",
   "nbconvert_exporter": "python",
   "pygments_lexer": "ipython3",
   "version": "3.7.16"
  }
 },
 "nbformat": 4,
 "nbformat_minor": 5
}
