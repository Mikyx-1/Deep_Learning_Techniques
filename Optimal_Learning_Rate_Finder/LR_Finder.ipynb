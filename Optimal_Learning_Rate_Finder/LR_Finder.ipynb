{
  "nbformat": 4,
  "nbformat_minor": 0,
  "metadata": {
    "colab": {
      "provenance": []
    },
    "kernelspec": {
      "name": "python3",
      "display_name": "Python 3"
    },
    "language_info": {
      "name": "python"
    },
    "gpuClass": "standard",
    "accelerator": "GPU"
  },
  "cells": [
    {
      "cell_type": "code",
      "source": [
        "%matplotlib inline\n",
        "#pytorch packages\n",
        "import math\n",
        "import torch\n",
        "import torch.nn as nn\n",
        "import torch.nn.functional as F\n",
        "import torch.optim as optim\n",
        "#To download the dataset for torchvision\n",
        "import torchvision\n",
        "from torchvision import datasets, transforms\n",
        "#For plots\n",
        "import matplotlib.pyplot as plt\n",
        "import numpy as np"
      ],
      "metadata": {
        "id": "KgSGq67SoaFC"
      },
      "execution_count": null,
      "outputs": []
    },
    {
      "cell_type": "code",
      "source": [
        "PATH = '.'"
      ],
      "metadata": {
        "id": "x7iI5mgYocWm"
      },
      "execution_count": null,
      "outputs": []
    },
    {
      "cell_type": "code",
      "source": [
        "trn_set = datasets.MNIST(PATH, train=True, download=True)\n",
        "tst_set = datasets.MNIST(PATH, train=False, download=True)"
      ],
      "metadata": {
        "id": "-1RDseMFoeDs"
      },
      "execution_count": null,
      "outputs": []
    },
    {
      "cell_type": "code",
      "source": [
        "len(trn_set.train_data), len(tst_set.test_data)"
      ],
      "metadata": {
        "colab": {
          "base_uri": "https://localhost:8080/"
        },
        "id": "rZR9z6B5ofKa",
        "outputId": "26bf6497-b320-4fe0-cbeb-88ba22baa5dc"
      },
      "execution_count": null,
      "outputs": [
        {
          "output_type": "stream",
          "name": "stderr",
          "text": [
            "/usr/local/lib/python3.10/dist-packages/torchvision/datasets/mnist.py:75: UserWarning: train_data has been renamed data\n",
            "  warnings.warn(\"train_data has been renamed data\")\n",
            "/usr/local/lib/python3.10/dist-packages/torchvision/datasets/mnist.py:80: UserWarning: test_data has been renamed data\n",
            "  warnings.warn(\"test_data has been renamed data\")\n"
          ]
        },
        {
          "output_type": "execute_result",
          "data": {
            "text/plain": [
              "(60000, 10000)"
            ]
          },
          "metadata": {},
          "execution_count": 4
        }
      ]
    },
    {
      "cell_type": "code",
      "source": [
        "plt.imshow(trn_set.train_data[0].numpy(), cmap=\"Greys\")"
      ],
      "metadata": {
        "colab": {
          "base_uri": "https://localhost:8080/",
          "height": 447
        },
        "id": "Kg5HKBckpGo2",
        "outputId": "989bd403-5e3b-47f8-8f08-b2eb603cbdde"
      },
      "execution_count": null,
      "outputs": [
        {
          "output_type": "execute_result",
          "data": {
            "text/plain": [
              "<matplotlib.image.AxesImage at 0x7c0447165cf0>"
            ]
          },
          "metadata": {},
          "execution_count": 5
        },
        {
          "output_type": "display_data",
          "data": {
            "text/plain": [
              "<Figure size 640x480 with 1 Axes>"
            ],
            "image/png": "[encoded data removed]"
          },
          "metadata": {}
        }
      ]
    },
    {
      "cell_type": "code",
      "source": [
        "tsfms = transforms.ToTensor()\n",
        "trn_set = datasets.MNIST(PATH, train=True, download=True, transform=tsfms)\n",
        "tst_set = datasets.MNIST(PATH, train=False, download=True, transform=tsfms)\n",
        "trn_loader = torch.utils.data.DataLoader(trn_set, batch_size=64, shuffle=True, num_workers=0)\n",
        "tst_loader = torch.utils.data.DataLoader(tst_set, batch_size=64, shuffle=False, num_workers=0)"
      ],
      "metadata": {
        "id": "yzpEjfS-pIN_"
      },
      "execution_count": null,
      "outputs": []
    },
    {
      "cell_type": "code",
      "source": [
        "mb_example = next(iter(trn_loader))"
      ],
      "metadata": {
        "id": "iOvExuf4pNwM"
      },
      "execution_count": null,
      "outputs": []
    },
    {
      "cell_type": "code",
      "source": [
        "mb_example[0].size(), mb_example[1].size()"
      ],
      "metadata": {
        "colab": {
          "base_uri": "https://localhost:8080/"
        },
        "id": "UQdvSrdvpPWf",
        "outputId": "dfe52b8c-896c-4cb4-93dc-4b97aab2a5a4"
      },
      "execution_count": null,
      "outputs": [
        {
          "output_type": "execute_result",
          "data": {
            "text/plain": [
              "(torch.Size([64, 1, 28, 28]), torch.Size([64]))"
            ]
          },
          "metadata": {},
          "execution_count": 8
        }
      ]
    },
    {
      "cell_type": "code",
      "source": [
        "mb_example[0][0, 0]"
      ],
      "metadata": {
        "id": "3JV1nrcPpRCM"
      },
      "execution_count": null,
      "outputs": []
    },
    {
      "cell_type": "code",
      "source": [
        "fig = plt.figure()\n",
        "for i in range(4):\n",
        "    sub_plot = fig.add_subplot(1, 4, i+1)\n",
        "    sub_plot.axis(\"Off\")\n",
        "    plt.imshow(mb_example[0][i, 0].numpy(), cmap=\"Greys\")\n",
        "    sub_plot.set_title(mb_example[1][i])"
      ],
      "metadata": {
        "colab": {
          "base_uri": "https://localhost:8080/",
          "height": 167
        },
        "id": "5M9bLvFVpSKb",
        "outputId": "49653435-e193-4420-8de8-d0329144355c"
      },
      "execution_count": null,
      "outputs": [
        {
          "output_type": "display_data",
          "data": {
            "text/plain": [
              "<Figure size 640x480 with 4 Axes>"
            ],
            "image/png": "[encoded data removed]"
          },
          "metadata": {}
        }
      ]
    },
    {
      "cell_type": "code",
      "source": [
        "mean = torch.mean(trn_set.train_data.type(torch.FloatTensor))/255.\n",
        "std = torch.std(trn_set.train_data.type(torch.FloatTensor))/255.\n",
        "mean, std"
      ],
      "metadata": {
        "colab": {
          "base_uri": "https://localhost:8080/"
        },
        "id": "WJt8TzIPpU3E",
        "outputId": "ae9fdfa8-0ef1-4810-ed02-74714cf437bd"
      },
      "execution_count": null,
      "outputs": [
        {
          "output_type": "execute_result",
          "data": {
            "text/plain": [
              "(tensor(0.1307), tensor(0.3081))"
            ]
          },
          "metadata": {},
          "execution_count": 10
        }
      ]
    },
    {
      "cell_type": "code",
      "source": [
        "tsfms = transforms.Compose([transforms.ToTensor(), transforms.Normalize((mean,), (std,))])\n",
        "trn_set = datasets.MNIST(PATH, train=True, download=True, transform=tsfms)\n",
        "tst_set = datasets.MNIST(PATH, train=False, download=True, transform=tsfms)\n",
        "\n",
        "trn_loader = torch.utils.data.DataLoader(trn_set, batch_size=64, shuffle=True, num_workers=0)\n",
        "tst_loader = torch.utils.data.DataLoader(tst_set, batch_size=64, shuffle=False, num_workers=0)\n",
        "mb_example = next(iter(trn_loader))\n",
        "fig = plt.figure()\n",
        "for i in range(0,4):\n",
        "    sub_plot = fig.add_subplot(1,4,i+1)\n",
        "    sub_plot.axis('Off')\n",
        "    plt.imshow(mb_example[0][i,0].numpy() * std.numpy() + mean.numpy(), cmap='Greys', interpolation=None)\n",
        "    sub_plot.set_title(mb_example[1][i])\n"
      ],
      "metadata": {
        "colab": {
          "base_uri": "https://localhost:8080/",
          "height": 167
        },
        "id": "PcUog2WHpX3h",
        "outputId": "fc44a12b-8f13-4d11-8172-e2f4bdb49003"
      },
      "execution_count": null,
      "outputs": [
        {
          "output_type": "display_data",
          "data": {
            "text/plain": [
              "<Figure size 640x480 with 4 Axes>"
            ],
            "image/png": "[encoded data removed]"
          },
          "metadata": {}
        }
      ]
    },
    {
      "cell_type": "code",
      "source": [
        "class SimpleNeuralNet(nn.Module):\n",
        "    def __init__(self, n_in, n_hidden, n_out):\n",
        "        super().__init__()\n",
        "        self.linear1 = nn.Linear(n_in, n_hidden)\n",
        "        self.linear2 = nn.Linear(n_hidden, n_out)\n",
        "\n",
        "    def forward(self,x):\n",
        "        x = x.view(x.size(0),-1)\n",
        "        x = F.relu(self.linear1(x))\n",
        "        return F.log_softmax(self.linear2(x), dim=-1)"
      ],
      "metadata": {
        "id": "t6iCCCdRpa3s"
      },
      "execution_count": null,
      "outputs": []
    },
    {
      "cell_type": "code",
      "source": [
        "net = SimpleNeuralNet(28*28,100,10)\n",
        "optimizer = optim.SGD(net.parameters(),lr=1e-2)"
      ],
      "metadata": {
        "id": "Uf6yF9JFpw27"
      },
      "execution_count": null,
      "outputs": []
    },
    {
      "cell_type": "code",
      "source": [
        "def train(nb_epoch):\n",
        "    for epoch in range(nb_epoch):\n",
        "        running_loss = 0.\n",
        "        corrects = 0\n",
        "        print(f'Epoch {epoch+1}:')\n",
        "        for data in trn_loader:\n",
        "            #separate the inputs from the labels\n",
        "            inputs,labels = data\n",
        "            #wrap those into variables to keep track of how they are created and be able to compute their gradient.\n",
        "            #Put the gradients back to zero\n",
        "            optimizer.zero_grad()\n",
        "            #Compute the outputs given by our model at this stage.\n",
        "            outputs = net(inputs)\n",
        "            _,preds = torch.max(outputs.data,1)\n",
        "            #Compute the loss\n",
        "            loss = F.nll_loss(outputs, labels)\n",
        "            running_loss += loss.item() * inputs.size(0)\n",
        "            corrects += torch.sum(labels.data == preds)\n",
        "            #Backpropagate the computation of the gradients\n",
        "            loss.backward()\n",
        "            #Do the step of the SGD\n",
        "            optimizer.step()\n",
        "        print(f'Loss: {running_loss/len(trn_set)}  Accuracy: {100.*corrects/len(trn_set)}')"
      ],
      "metadata": {
        "id": "DoXA4LwlpzNz"
      },
      "execution_count": null,
      "outputs": []
    },
    {
      "cell_type": "code",
      "source": [
        "train(10)"
      ],
      "metadata": {
        "colab": {
          "base_uri": "https://localhost:8080/"
        },
        "id": "yXMlBz8bp0p7",
        "outputId": "9a043c5f-e463-4bf7-ad39-414d4ecaf48f"
      },
      "execution_count": null,
      "outputs": [
        {
          "output_type": "stream",
          "name": "stdout",
          "text": [
            "Epoch 1:\n",
            "Loss: 0.5846278077443441  Accuracy: 85.23666381835938\n",
            "Epoch 2:\n",
            "Loss: 0.30402929018735886  Accuracy: 91.32833099365234\n",
            "Epoch 3:\n",
            "Loss: 0.25784419357776645  Accuracy: 92.6050033569336\n",
            "Epoch 4:\n",
            "Loss: 0.22666496206124623  Accuracy: 93.5250015258789\n",
            "Epoch 5:\n",
            "Loss: 0.20227225366830826  Accuracy: 94.23833465576172\n",
            "Epoch 6:\n",
            "Loss: 0.18257906008958816  Accuracy: 94.7699966430664\n",
            "Epoch 7:\n",
            "Loss: 0.16668724185029665  Accuracy: 95.26667022705078\n",
            "Epoch 8:\n",
            "Loss: 0.1528758931696415  Accuracy: 95.69000244140625\n",
            "Epoch 9:\n",
            "Loss: 0.14134145741661389  Accuracy: 96.00333404541016\n",
            "Epoch 10:\n",
            "Loss: 0.13114392293890317  Accuracy: 96.30999755859375\n"
          ]
        }
      ]
    },
    {
      "cell_type": "code",
      "source": [
        "def validate():\n",
        "    running_loss = 0.\n",
        "    corrects = 0\n",
        "    for data in tst_loader:\n",
        "        #separate the inputs from the labels\n",
        "        inputs,labels = data\n",
        "        #wrap those into variables to keep track of how they are created and be able to compute their gradient.\n",
        "        #Even if we don't require the gradient here, a nn.Module expects a variable.\n",
        "        #Compute the outputs given by our model at this stage.\n",
        "        outputs = net(inputs)\n",
        "        _,preds = torch.max(outputs.data,1)\n",
        "        #Compute the loss\n",
        "        loss = F.nll_loss(outputs, labels)\n",
        "        running_loss += loss.item() * inputs.size(0)\n",
        "        corrects += torch.sum(labels.data == preds)\n",
        "    print(f'Loss: {running_loss/len(tst_set)}  Accuracy: {100.*corrects/len(tst_set)}')"
      ],
      "metadata": {
        "id": "SBxMxpmlp2cV"
      },
      "execution_count": null,
      "outputs": []
    },
    {
      "cell_type": "code",
      "source": [
        "validate()"
      ],
      "metadata": {
        "colab": {
          "base_uri": "https://localhost:8080/"
        },
        "id": "3kZP0D6Wp95o",
        "outputId": "9c365df0-268a-43c7-bb09-cf0555bf1782"
      },
      "execution_count": null,
      "outputs": [
        {
          "output_type": "stream",
          "name": "stdout",
          "text": [
            "Loss: 0.13463953781425952  Accuracy: 96.12000274658203\n"
          ]
        }
      ]
    },
    {
      "cell_type": "code",
      "source": [
        "def my_find_lr(init_value = 1e-8, final_value=10, beta = 0.98):\n",
        "  num = len(trn_loader) - 1\n",
        "  mult = (final_value/init_value)**(1/num)\n",
        "  curr_lr = init_value\n",
        "  curr_loss = 0.\n",
        "  lr_logs = []\n",
        "  loss_logs = []\n",
        "  for ith, (data, targets) in enumerate(trn_loader):\n",
        "    optimizer.param_groups[0][\"lr\"] = curr_lr\n",
        "    logits = net(data)\n",
        "    loss = nn.NLLLoss()(logits, targets)\n",
        "    optimizer.zero_grad()\n",
        "\n",
        "    loss.backward()\n",
        "    optimizer.step()\n",
        "    curr_loss = (beta*curr_loss + (1-beta)*loss.item())\n",
        "    smoothed_loss = curr_loss/(1 - beta**(ith+1))\n",
        "    loss_logs.append(smoothed_loss)\n",
        "    lr_logs.append(math.log10(curr_lr))\n",
        "\n",
        "    curr_lr *= mult\n",
        "  return lr_logs, loss_logs"
      ],
      "metadata": {
        "id": "Zye3FM0As3s3"
      },
      "execution_count": null,
      "outputs": []
    },
    {
      "cell_type": "code",
      "source": [
        "net = SimpleNeuralNet(28*28,100,10)\n",
        "optimizer = optim.Adam(net.parameters(),lr=1e-1)\n",
        "lr_logs, loss_logs = my_find_lr()"
      ],
      "metadata": {
        "id": "3pdKaD1rwaQl"
      },
      "execution_count": null,
      "outputs": []
    },
    {
      "cell_type": "code",
      "source": [
        "len(lr_logs)"
      ],
      "metadata": {
        "colab": {
          "base_uri": "https://localhost:8080/"
        },
        "id": "wxYHaDG16tOQ",
        "outputId": "31313f46-3ebe-43b1-e7b4-09b6ee082122"
      },
      "execution_count": null,
      "outputs": [
        {
          "output_type": "execute_result",
          "data": {
            "text/plain": [
              "938"
            ]
          },
          "metadata": {},
          "execution_count": 20
        }
      ]
    },
    {
      "cell_type": "code",
      "source": [
        "plt.plot(lr_logs[:-100], loss_logs[:-100])"
      ],
      "metadata": {
        "colab": {
          "base_uri": "https://localhost:8080/",
          "height": 447
        },
        "id": "bzn9tB_4yAja",
        "outputId": "a6a5ee40-fd59-4693-ca47-df9445521180"
      },
      "execution_count": null,
      "outputs": [
        {
          "output_type": "execute_result",
          "data": {
            "text/plain": [
              "[<matplotlib.lines.Line2D at 0x7c04469af490>]"
            ]
          },
          "metadata": {},
          "execution_count": 22
        },
        {
          "output_type": "display_data",
          "data": {
            "text/plain": [
              "<Figure size 640x480 with 1 Axes>"
            ],
            "image/png": "[encoded data removed]"
          },
          "metadata": {}
        }
      ]
    },
    {
      "cell_type": "code",
      "source": [
        "loss_logs[-1]"
      ],
      "metadata": {
        "colab": {
          "base_uri": "https://localhost:8080/"
        },
        "id": "mUMT8e4w0upv",
        "outputId": "dd55d95b-5d9d-4017-924e-0b19210a008d"
      },
      "execution_count": null,
      "outputs": [
        {
          "output_type": "execute_result",
          "data": {
            "text/plain": [
              "3.641611452722915e+24"
            ]
          },
          "metadata": {},
          "execution_count": 87
        }
      ]
    },
    {
      "cell_type": "code",
      "source": [
        "net = SimpleNeuralNet(28*28,100,10)\n",
        "optimizer = optim.Adam(net.parameters(),lr=1e-3)\n",
        "train(10)"
      ],
      "metadata": {
        "colab": {
          "base_uri": "https://localhost:8080/"
        },
        "id": "37gMrc3gsR4T",
        "outputId": "bc2868d2-0ca8-47f1-cb87-11518061d79c"
      },
      "execution_count": null,
      "outputs": [
        {
          "output_type": "stream",
          "name": "stdout",
          "text": [
            "Epoch 1:\n",
            "Loss: 0.2762827971378962  Accuracy: 91.91166687011719\n",
            "Epoch 2:\n",
            "Loss: 0.12301396138469378  Accuracy: 96.336669921875\n",
            "Epoch 3:\n",
            "Loss: 0.08500602347950141  Accuracy: 97.4000015258789\n",
            "Epoch 4:\n",
            "Loss: 0.06643336378286283  Accuracy: 97.9800033569336\n",
            "Epoch 5:\n",
            "Loss: 0.05379368597057958  Accuracy: 98.28666687011719\n",
            "Epoch 6:\n",
            "Loss: 0.04429757197375099  Accuracy: 98.58499908447266\n",
            "Epoch 7:\n",
            "Loss: 0.03524560263734311  Accuracy: 98.84833526611328\n",
            "Epoch 8:\n",
            "Loss: 0.03108557256919642  Accuracy: 98.95500183105469\n",
            "Epoch 9:\n",
            "Loss: 0.02810656616035849  Accuracy: 99.06999969482422\n",
            "Epoch 10:\n",
            "Loss: 0.023348790275879824  Accuracy: 99.24666595458984\n"
          ]
        }
      ]
    },
    {
      "cell_type": "code",
      "source": [],
      "metadata": {
        "id": "UXrxJO0qsaou"
      },
      "execution_count": null,
      "outputs": []
    }
  ]
}